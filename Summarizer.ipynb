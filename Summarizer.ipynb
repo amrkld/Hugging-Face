{
 "cells": [
  {
   "cell_type": "code",
   "execution_count": 1,
   "metadata": {},
   "outputs": [
    {
     "name": "stdout",
     "output_type": "stream",
     "text": [
      "WARNING:tensorflow:From a:\\Pycharm\\pycharm\\Lib\\site-packages\\tf_keras\\src\\losses.py:2976: The name tf.losses.sparse_softmax_cross_entropy is deprecated. Please use tf.compat.v1.losses.sparse_softmax_cross_entropy instead.\n",
      "\n",
      "WARNING:tensorflow:From a:\\Pycharm\\pycharm\\Lib\\site-packages\\tf_keras\\src\\backend.py:873: The name tf.get_default_graph is deprecated. Please use tf.compat.v1.get_default_graph instead.\n",
      "\n"
     ]
    },
    {
     "name": "stderr",
     "output_type": "stream",
     "text": [
      "All PyTorch model weights were used when initializing TFT5ForConditionalGeneration.\n",
      "\n",
      "All the weights of TFT5ForConditionalGeneration were initialized from the PyTorch model.\n",
      "If your task is similar to the task the model of the checkpoint was trained on, you can already use TFT5ForConditionalGeneration for predictions without further training.\n"
     ]
    }
   ],
   "source": [
    "from transformers import pipeline, AutoTokenizer\n",
    "import tkinter as tk\n",
    "from tkinter import scrolledtext\n",
    "\n",
    "model_name = \"Falconsai/text_summarization\"\n",
    "summarizer = pipeline(\"summarization\", model=model_name)\n",
    "tokenizer = AutoTokenizer.from_pretrained(model_name)\n",
    "\n",
    "def summarize_text():\n",
    "    article = input_text.get(\"1.0\", tk.END).strip()\n",
    "    \n",
    "    if not article:\n",
    "        summary_text.delete(\"1.0\", tk.END)\n",
    "        summary_text.insert(tk.END, \"Please enter some text to summarize.\")\n",
    "        return\n",
    "\n",
    "    article_tokens = tokenizer.encode(article, truncation=False)\n",
    "    article_length_in_tokens = len(article_tokens)\n",
    "    \n",
    "\n",
    "    max_length = int(article_length_in_tokens / 2) \n",
    "    max_length = max(50, min(max_length, article_length_in_tokens - 1))\n",
    "    try:\n",
    "        summary = summarizer(\n",
    "            article, \n",
    "            max_length=max_length,  # Adjust max length dynamically\n",
    "            min_length=30,  # Adjust min length\n",
    "            do_sample=True,  # Enable sampling for more diverse summaries\n",
    "            num_beams=4,  # Use beam search for better summaries\n",
    "            temperature=0.7,  # Adjust temperature for diversity\n",
    "            top_k=50,  # Use top-k filtering\n",
    "            top_p=0.9  # Use nucleus sampling\n",
    "        )\n",
    "        summary_text.delete(\"1.0\", tk.END)\n",
    "        summary_text.insert(tk.END, summary[0]['summary_text'])\n",
    "    except Exception as e:\n",
    "        summary_text.delete(\"1.0\", tk.END)\n",
    "        summary_text.insert(tk.END, f\"An error occurred: {str(e)}\")"
   ]
  },
  {
   "cell_type": "code",
   "execution_count": 2,
   "metadata": {},
   "outputs": [],
   "source": [
    "root = tk.Tk()\n",
    "root.title(\"Article Summarizer\")\n",
    "\n",
    "root.configure(bg=\"#121212\")\n",
    "\n",
    "frame = tk.Frame(root, bg=\"#121212\")\n",
    "frame.pack(padx=10, pady=10, fill=tk.BOTH, expand=True)\n",
    "\n",
    "input_text = scrolledtext.ScrolledText(frame, wrap=tk.WORD, height=10, width=80, bg=\"#121212\", fg=\"white\", insertbackground=\"white\")\n",
    "input_text.pack(pady=5, fill=tk.BOTH, expand=True)\n",
    "\n",
    "summarize_button = tk.Button(frame, text=\"Summarize\", command=summarize_text, bg=\"#121212\", fg=\"white\")\n",
    "summarize_button.pack(pady=5)\n",
    "\n",
    "summary_text = scrolledtext.ScrolledText(frame, wrap=tk.WORD, height=10, width=80, bg=\"#121212\", fg=\"white\", insertbackground=\"white\")\n",
    "summary_text.pack(pady=5, fill=tk.BOTH, expand=True)\n",
    "\n",
    "root.mainloop()"
   ]
  },
  {
   "cell_type": "code",
   "execution_count": null,
   "metadata": {},
   "outputs": [],
   "source": []
  }
 ],
 "metadata": {
  "kernelspec": {
   "display_name": "Python 3",
   "language": "python",
   "name": "python3"
  },
  "language_info": {
   "codemirror_mode": {
    "name": "ipython",
    "version": 3
   },
   "file_extension": ".py",
   "mimetype": "text/x-python",
   "name": "python",
   "nbconvert_exporter": "python",
   "pygments_lexer": "ipython3",
   "version": "3.12.0"
  }
 },
 "nbformat": 4,
 "nbformat_minor": 2
}
